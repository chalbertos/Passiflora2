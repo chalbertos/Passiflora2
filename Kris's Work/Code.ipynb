{
 "cells": [
  {
   "cell_type": "code",
   "execution_count": null,
   "id": "6ec8d311",
   "metadata": {},
   "outputs": [],
   "source": [
    "import pandas as pd\n",
    "import numpy as np\n",
    "import matplotlib.pyplot as plt\n",
    "import sqlite3\n",
    "import seaborn as sns"
   ]
  },
  {
   "cell_type": "code",
   "execution_count": null,
   "id": "372881e7",
   "metadata": {},
   "outputs": [],
   "source": [
    "data = pd.read_csv(\"Online_Cars_Sale_Marketplace.csv\")"
   ]
  },
  {
   "cell_type": "code",
   "execution_count": null,
   "id": "7561a3f3",
   "metadata": {},
   "outputs": [],
   "source": [
    "data = data.loc[data['Price']!='Not Priced']\n",
    "data['Price']= data['Price'].replace('[\\$,]', '', regex=True).astype(float)"
   ]
  },
  {
   "cell_type": "code",
   "execution_count": null,
   "id": "829fc489",
   "metadata": {},
   "outputs": [],
   "source": [
    "data"
   ]
  },
  {
   "cell_type": "code",
   "execution_count": null,
   "id": "d71f675f",
   "metadata": {},
   "outputs": [],
   "source": [
    "state = pd.DataFrame(data['State'].value_counts())\n",
    "state"
   ]
  },
  {
   "cell_type": "code",
   "execution_count": null,
   "id": "d4305f70",
   "metadata": {},
   "outputs": [],
   "source": [
    "state.plot.bar(color = 'orange',figsize = (15,15))"
   ]
  },
  {
   "cell_type": "code",
   "execution_count": null,
   "id": "ca92de89",
   "metadata": {},
   "outputs": [],
   "source": [
    "zipcode = pd.DataFrame(data['Zipcode'].value_counts())\n",
    "zipcode"
   ]
  },
  {
   "cell_type": "code",
   "execution_count": null,
   "id": "bfb9f82e",
   "metadata": {},
   "outputs": [],
   "source": [
    "price = data.groupby(['State', 'Price']).mean(['Price'])\n",
    "price"
   ]
  },
  {
   "cell_type": "code",
   "execution_count": null,
   "id": "04376c74",
   "metadata": {},
   "outputs": [],
   "source": [
    "price.head(10)\n",
    "price.tail(10)\n",
    "price.info()"
   ]
  },
  {
   "cell_type": "code",
   "execution_count": null,
   "id": "6acd7619",
   "metadata": {},
   "outputs": [],
   "source": [
    "sns.set(rc={'figure.figsize':(30,30)})\n",
    "sns.scatterplot(data=price, x='State', y='Price');"
   ]
  }
 ],
 "metadata": {
  "kernelspec": {
   "display_name": "Python 3 (ipykernel)",
   "language": "python",
   "name": "python3"
  },
  "language_info": {
   "codemirror_mode": {
    "name": "ipython",
    "version": 3
   },
   "file_extension": ".py",
   "mimetype": "text/x-python",
   "name": "python",
   "nbconvert_exporter": "python",
   "pygments_lexer": "ipython3",
   "version": "3.9.12"
  }
 },
 "nbformat": 4,
 "nbformat_minor": 5
}
