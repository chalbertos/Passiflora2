{
 "cells": [
  {
   "cell_type": "code",
   "execution_count": null,
   "id": "f2e4016b",
   "metadata": {},
   "outputs": [],
   "source": [
    "## Car Sales ##\n",
    "## Answer questions\n",
    "# III. Where do we find the most used car or new car listing from this platform?\n",
    "#       - define the geographical level in your analysis,state,city, or zipcode?\n",
    "#       - visualize the data on a map."
   ]
  },
  {
   "cell_type": "code",
   "execution_count": 28,
   "id": "6a7bec55",
   "metadata": {},
   "outputs": [],
   "source": [
    "import pandas as pd\n",
    "import numpy as np\n",
    "import matplotlib.pyplot as plt \n",
    "\n"
   ]
  },
  {
   "cell_type": "code",
   "execution_count": 11,
   "id": "ee1cf3ce",
   "metadata": {},
   "outputs": [],
   "source": [
    "data = pd.read_csv(\"Online_Cars_Sale_Marketplace.csv\")\n",
    "\n"
   ]
  },
  {
   "cell_type": "code",
   "execution_count": 12,
   "id": "7201d12c",
   "metadata": {},
   "outputs": [
    {
     "data": {
      "text/html": [
       "<div>\n",
       "<style scoped>\n",
       "    .dataframe tbody tr th:only-of-type {\n",
       "        vertical-align: middle;\n",
       "    }\n",
       "\n",
       "    .dataframe tbody tr th {\n",
       "        vertical-align: top;\n",
       "    }\n",
       "\n",
       "    .dataframe thead th {\n",
       "        text-align: right;\n",
       "    }\n",
       "</style>\n",
       "<table border=\"1\" class=\"dataframe\">\n",
       "  <thead>\n",
       "    <tr style=\"text-align: right;\">\n",
       "      <th></th>\n",
       "      <th>Year</th>\n",
       "      <th>Make</th>\n",
       "      <th>Model</th>\n",
       "      <th>Used/New</th>\n",
       "      <th>Price</th>\n",
       "      <th>ConsumerRating</th>\n",
       "      <th>ConsumerReviews</th>\n",
       "      <th>SellerType</th>\n",
       "      <th>SellerName</th>\n",
       "      <th>SellerRating</th>\n",
       "      <th>...</th>\n",
       "      <th>InteriorColor</th>\n",
       "      <th>Drivetrain</th>\n",
       "      <th>MinMPG</th>\n",
       "      <th>MaxMPG</th>\n",
       "      <th>FuelType</th>\n",
       "      <th>Transmission</th>\n",
       "      <th>Engine</th>\n",
       "      <th>VIN</th>\n",
       "      <th>Stock#</th>\n",
       "      <th>Mileage</th>\n",
       "    </tr>\n",
       "  </thead>\n",
       "  <tbody>\n",
       "    <tr>\n",
       "      <th>0</th>\n",
       "      <td>2019</td>\n",
       "      <td>Toyota</td>\n",
       "      <td>Sienna SE</td>\n",
       "      <td>Used</td>\n",
       "      <td>$39,998</td>\n",
       "      <td>4.6</td>\n",
       "      <td>45</td>\n",
       "      <td>Dealer</td>\n",
       "      <td>CarMax Murrieta - Now offering Curbside Pickup...</td>\n",
       "      <td>3.3</td>\n",
       "      <td>...</td>\n",
       "      <td>Black</td>\n",
       "      <td>Front-wheel Drive</td>\n",
       "      <td>19</td>\n",
       "      <td>27</td>\n",
       "      <td>Gasoline</td>\n",
       "      <td>8-Speed Automatic</td>\n",
       "      <td>3.5L V6 24V PDI DOHC</td>\n",
       "      <td>5TDXZ3DC2KS015402</td>\n",
       "      <td>22998646</td>\n",
       "      <td>29403</td>\n",
       "    </tr>\n",
       "    <tr>\n",
       "      <th>1</th>\n",
       "      <td>2018</td>\n",
       "      <td>Ford</td>\n",
       "      <td>F-150 Lariat</td>\n",
       "      <td>Used</td>\n",
       "      <td>$49,985</td>\n",
       "      <td>4.8</td>\n",
       "      <td>817</td>\n",
       "      <td>Dealer</td>\n",
       "      <td>Giant Chevrolet</td>\n",
       "      <td>4.8</td>\n",
       "      <td>...</td>\n",
       "      <td>Black</td>\n",
       "      <td>Four-wheel Drive</td>\n",
       "      <td>19</td>\n",
       "      <td>24</td>\n",
       "      <td>Gasoline</td>\n",
       "      <td>10-Speed Automatic</td>\n",
       "      <td>3.5L V6 24V PDI DOHC Twin Turbo</td>\n",
       "      <td>1FTEW1EG2JFD44217</td>\n",
       "      <td>22418A</td>\n",
       "      <td>32929</td>\n",
       "    </tr>\n",
       "    <tr>\n",
       "      <th>2</th>\n",
       "      <td>2017</td>\n",
       "      <td>RAM</td>\n",
       "      <td>1500 Laramie</td>\n",
       "      <td>Used</td>\n",
       "      <td>$41,860</td>\n",
       "      <td>4.7</td>\n",
       "      <td>495</td>\n",
       "      <td>Dealer</td>\n",
       "      <td>Gill Auto Group Madera</td>\n",
       "      <td>4.6</td>\n",
       "      <td>...</td>\n",
       "      <td>Black</td>\n",
       "      <td>Four-wheel Drive</td>\n",
       "      <td>15</td>\n",
       "      <td>21</td>\n",
       "      <td>Gasoline</td>\n",
       "      <td>8-Speed Automatic</td>\n",
       "      <td>5.7L V8 16V MPFI OHV</td>\n",
       "      <td>1C6RR7VT5HS842283</td>\n",
       "      <td>NG277871G</td>\n",
       "      <td>23173</td>\n",
       "    </tr>\n",
       "    <tr>\n",
       "      <th>3</th>\n",
       "      <td>2021</td>\n",
       "      <td>Honda</td>\n",
       "      <td>Accord Sport SE</td>\n",
       "      <td>Used</td>\n",
       "      <td>$28,500</td>\n",
       "      <td>5.0</td>\n",
       "      <td>36</td>\n",
       "      <td>Dealer</td>\n",
       "      <td>AutoSavvy Las Vegas</td>\n",
       "      <td>4.6</td>\n",
       "      <td>...</td>\n",
       "      <td>–</td>\n",
       "      <td>Front-wheel Drive</td>\n",
       "      <td>29</td>\n",
       "      <td>35</td>\n",
       "      <td>Gasoline</td>\n",
       "      <td>Automatic CVT</td>\n",
       "      <td>1.5L I4 16V GDI DOHC Turbo</td>\n",
       "      <td>1HGCV1F49MA038035</td>\n",
       "      <td>54237</td>\n",
       "      <td>10598</td>\n",
       "    </tr>\n",
       "    <tr>\n",
       "      <th>4</th>\n",
       "      <td>2020</td>\n",
       "      <td>Lexus</td>\n",
       "      <td>RX 350</td>\n",
       "      <td>Used</td>\n",
       "      <td>$49,000</td>\n",
       "      <td>4.8</td>\n",
       "      <td>76</td>\n",
       "      <td>Dealer</td>\n",
       "      <td>Lexus of Henderson</td>\n",
       "      <td>4.8</td>\n",
       "      <td>...</td>\n",
       "      <td>Birch</td>\n",
       "      <td>Front-wheel Drive</td>\n",
       "      <td>20</td>\n",
       "      <td>27</td>\n",
       "      <td>Gasoline</td>\n",
       "      <td>8-Speed Automatic</td>\n",
       "      <td>3.5L V6 24V PDI DOHC</td>\n",
       "      <td>2T2AZMAA8LC156270</td>\n",
       "      <td>HDT4181A</td>\n",
       "      <td>28137</td>\n",
       "    </tr>\n",
       "  </tbody>\n",
       "</table>\n",
       "<p>5 rows × 32 columns</p>\n",
       "</div>"
      ],
      "text/plain": [
       "   Year    Make            Model Used/New    Price  ConsumerRating  \\\n",
       "0  2019  Toyota        Sienna SE     Used  $39,998             4.6   \n",
       "1  2018    Ford     F-150 Lariat     Used  $49,985             4.8   \n",
       "2  2017     RAM     1500 Laramie     Used  $41,860             4.7   \n",
       "3  2021   Honda  Accord Sport SE     Used  $28,500             5.0   \n",
       "4  2020   Lexus           RX 350     Used  $49,000             4.8   \n",
       "\n",
       "   ConsumerReviews SellerType  \\\n",
       "0               45     Dealer   \n",
       "1              817     Dealer   \n",
       "2              495     Dealer   \n",
       "3               36     Dealer   \n",
       "4               76     Dealer   \n",
       "\n",
       "                                          SellerName  SellerRating  ...  \\\n",
       "0  CarMax Murrieta - Now offering Curbside Pickup...           3.3  ...   \n",
       "1                                    Giant Chevrolet           4.8  ...   \n",
       "2                             Gill Auto Group Madera           4.6  ...   \n",
       "3                                AutoSavvy Las Vegas           4.6  ...   \n",
       "4                                 Lexus of Henderson           4.8  ...   \n",
       "\n",
       "   InteriorColor         Drivetrain MinMPG MaxMPG  FuelType  \\\n",
       "0          Black  Front-wheel Drive     19     27  Gasoline   \n",
       "1          Black   Four-wheel Drive     19     24  Gasoline   \n",
       "2          Black   Four-wheel Drive     15     21  Gasoline   \n",
       "3              –  Front-wheel Drive     29     35  Gasoline   \n",
       "4          Birch  Front-wheel Drive     20     27  Gasoline   \n",
       "\n",
       "         Transmission                           Engine                VIN  \\\n",
       "0   8-Speed Automatic             3.5L V6 24V PDI DOHC  5TDXZ3DC2KS015402   \n",
       "1  10-Speed Automatic  3.5L V6 24V PDI DOHC Twin Turbo  1FTEW1EG2JFD44217   \n",
       "2   8-Speed Automatic             5.7L V8 16V MPFI OHV  1C6RR7VT5HS842283   \n",
       "3       Automatic CVT       1.5L I4 16V GDI DOHC Turbo  1HGCV1F49MA038035   \n",
       "4   8-Speed Automatic             3.5L V6 24V PDI DOHC  2T2AZMAA8LC156270   \n",
       "\n",
       "      Stock#  Mileage  \n",
       "0   22998646    29403  \n",
       "1     22418A    32929  \n",
       "2  NG277871G    23173  \n",
       "3      54237    10598  \n",
       "4   HDT4181A    28137  \n",
       "\n",
       "[5 rows x 32 columns]"
      ]
     },
     "execution_count": 12,
     "metadata": {},
     "output_type": "execute_result"
    }
   ],
   "source": [
    "data.head()"
   ]
  },
  {
   "cell_type": "code",
   "execution_count": 13,
   "id": "2386ec98",
   "metadata": {},
   "outputs": [
    {
     "data": {
      "text/plain": [
       "(9379, 32)"
      ]
     },
     "execution_count": 13,
     "metadata": {},
     "output_type": "execute_result"
    }
   ],
   "source": [
    "data.shape"
   ]
  },
  {
   "cell_type": "code",
   "execution_count": 14,
   "id": "647d4a34",
   "metadata": {},
   "outputs": [
    {
     "data": {
      "text/plain": [
       "Grand Cherokee Limited        266\n",
       "CR-V EX-L                     189\n",
       "X5 xDrive40i                  164\n",
       "XT5 Luxury                    142\n",
       "RAV4 LE                       112\n",
       "                             ... \n",
       "F-PACE 30t Prestige             1\n",
       "RX 350L L                       1\n",
       "Z4 sDrive35i                    1\n",
       "Highlander Hybrid Platinum      1\n",
       "Santa Fe Ultimate 2.4           1\n",
       "Name: Model, Length: 1304, dtype: int64"
      ]
     },
     "execution_count": 14,
     "metadata": {},
     "output_type": "execute_result"
    }
   ],
   "source": [
    "data['Model'].value_counts()"
   ]
  },
  {
   "cell_type": "code",
   "execution_count": 16,
   "id": "baebe71f",
   "metadata": {},
   "outputs": [
    {
     "data": {
      "text/plain": [
       "BMW              944\n",
       "Mercedes-Benz    810\n",
       "Toyota           797\n",
       "Honda            713\n",
       "Ford             580\n",
       "Jeep             495\n",
       "Lexus            484\n",
       "Audi             424\n",
       "Chevrolet        416\n",
       "Subaru           310\n",
       "Cadillac         299\n",
       "Nissan           251\n",
       "GMC              250\n",
       "Kia              240\n",
       "Acura            231\n",
       "INFINITI         216\n",
       "Hyundai          212\n",
       "Mazda            205\n",
       "Tesla            186\n",
       "Land             174\n",
       "Volvo            148\n",
       "RAM              145\n",
       "Dodge            145\n",
       "Volkswagen       140\n",
       "Porsche          134\n",
       "Lincoln          120\n",
       "Buick            114\n",
       "Chrysler          39\n",
       "Alfa              38\n",
       "Jaguar            30\n",
       "Mitsubishi        20\n",
       "Genesis           19\n",
       "Maserati          15\n",
       "Lamborghini       14\n",
       "Bentley            6\n",
       "MINI               5\n",
       "Scion              4\n",
       "FIAT               2\n",
       "Mercury            2\n",
       "Saturn             1\n",
       "Ferrari            1\n",
       "Name: Make, dtype: int64"
      ]
     },
     "execution_count": 16,
     "metadata": {},
     "output_type": "execute_result"
    }
   ],
   "source": [
    "data['Make'].value_counts()"
   ]
  },
  {
   "cell_type": "code",
   "execution_count": 19,
   "id": "a3b8646f",
   "metadata": {},
   "outputs": [
    {
     "data": {
      "text/plain": [
       "Year                       0\n",
       "Make                       0\n",
       "Model                      0\n",
       "Used/New                   0\n",
       "Price                      0\n",
       "ConsumerRating             0\n",
       "ConsumerReviews            0\n",
       "SellerType                 0\n",
       "SellerName                 0\n",
       "SellerRating               0\n",
       "SellerReviews              0\n",
       "StreetName                 0\n",
       "State                      0\n",
       "Zipcode                    0\n",
       "DealType                 222\n",
       "ComfortRating              0\n",
       "InteriorDesignRating       0\n",
       "PerformanceRating          0\n",
       "ValueForMoneyRating        0\n",
       "ExteriorStylingRating      0\n",
       "ReliabilityRating          0\n",
       "ExteriorColor              0\n",
       "InteriorColor              0\n",
       "Drivetrain                 0\n",
       "MinMPG                     0\n",
       "MaxMPG                     0\n",
       "FuelType                   0\n",
       "Transmission               0\n",
       "Engine                     0\n",
       "VIN                        0\n",
       "Stock#                     0\n",
       "Mileage                    0\n",
       "dtype: int64"
      ]
     },
     "execution_count": 19,
     "metadata": {},
     "output_type": "execute_result"
    }
   ],
   "source": [
    "data.isnull().sum()"
   ]
  },
  {
   "cell_type": "code",
   "execution_count": 23,
   "id": "1666f7a3",
   "metadata": {},
   "outputs": [
    {
     "data": {
      "text/plain": [
       "Used                       7900\n",
       "BMW Certified               247\n",
       "Mercedes-Benz Certified     223\n",
       "Honda Certified             208\n",
       "Toyota Certified            153\n",
       "Cadillac Certified          105\n",
       "Ford Certified               71\n",
       "Subaru Certified             58\n",
       "Jeep Certified               55\n",
       "Nissan Certified             50\n",
       "Acura Certified              47\n",
       "Chevrolet Certified          40\n",
       "INFINITI Certified           34\n",
       "Kia Certified                34\n",
       "Volvo Certified              33\n",
       "Porsche Certified            25\n",
       "RAM Certified                24\n",
       "Buick Certified              20\n",
       "Volkswagen Certified         17\n",
       "GMC Certified                13\n",
       "Dodge Certified              10\n",
       "Alfa Romeo Certified          7\n",
       "Bentley Certified             2\n",
       "MINI Certified                1\n",
       "Ferrari Certified             1\n",
       "Maserati Certified            1\n",
       "Name: Used/New, dtype: int64"
      ]
     },
     "execution_count": 23,
     "metadata": {},
     "output_type": "execute_result"
    }
   ],
   "source": [
    "data['Used/New'].value_counts()"
   ]
  },
  {
   "cell_type": "code",
   "execution_count": 24,
   "id": "606e156f",
   "metadata": {},
   "outputs": [
    {
     "data": {
      "text/plain": [
       "TX          1225\n",
       "FL           888\n",
       "CA           668\n",
       "IL           593\n",
       "NY           440\n",
       "GA           392\n",
       "AZ           344\n",
       "VA           340\n",
       "NJ           337\n",
       "OH           329\n",
       "MD           323\n",
       "MA           320\n",
       "PA           282\n",
       "MI           268\n",
       "NC           229\n",
       "MN           228\n",
       "IN           183\n",
       "MO           170\n",
       "TN           166\n",
       "WA           165\n",
       "SC           163\n",
       "CO           158\n",
       "WI           127\n",
       "CT            99\n",
       "NV            93\n",
       "KS            81\n",
       "NH            80\n",
       "KY            79\n",
       "UT            73\n",
       "AL            72\n",
       "LA            51\n",
       "OK            45\n",
       "AR            41\n",
       "OR            37\n",
       "NE            37\n",
       "IA            35\n",
       "RI            35\n",
       "ID            28\n",
       "SD            23\n",
       "MS            23\n",
       "HI            16\n",
       "ND            14\n",
       "WV            13\n",
       "RT            13\n",
       "DE            13\n",
       "ME             8\n",
       "VT             7\n",
       "NM             5\n",
       "MT             4\n",
       "WY             3\n",
       "Michigan       2\n",
       "Bldg           2\n",
       "AZ-101         2\n",
       "Suite          2\n",
       "US-12          1\n",
       "Glens          1\n",
       "SE             1\n",
       "AK             1\n",
       "US-169         1\n",
       "Name: State, dtype: int64"
      ]
     },
     "execution_count": 24,
     "metadata": {},
     "output_type": "execute_result"
    }
   ],
   "source": [
    "data['State'].value_counts()"
   ]
  },
  {
   "cell_type": "code",
   "execution_count": 27,
   "id": "1df8d55a",
   "metadata": {},
   "outputs": [
    {
     "data": {
      "text/plain": [
       "76051    69\n",
       "75093    65\n",
       "30096    63\n",
       "29607    48\n",
       "75034    46\n",
       "         ..\n",
       "14224     1\n",
       "23452     1\n",
       "07940     1\n",
       "96021     1\n",
       "06092     1\n",
       "Name: Zipcode, Length: 2163, dtype: int64"
      ]
     },
     "execution_count": 27,
     "metadata": {},
     "output_type": "execute_result"
    }
   ],
   "source": [
    "data['Zipcode'].value_counts()"
   ]
  },
  {
   "cell_type": "code",
   "execution_count": null,
   "id": "cec76708",
   "metadata": {},
   "outputs": [],
   "source": []
  }
 ],
 "metadata": {
  "kernelspec": {
   "display_name": "Python 3 (ipykernel)",
   "language": "python",
   "name": "python3"
  },
  "language_info": {
   "codemirror_mode": {
    "name": "ipython",
    "version": 3
   },
   "file_extension": ".py",
   "mimetype": "text/x-python",
   "name": "python",
   "nbconvert_exporter": "python",
   "pygments_lexer": "ipython3",
   "version": "3.9.12"
  }
 },
 "nbformat": 4,
 "nbformat_minor": 5
}
